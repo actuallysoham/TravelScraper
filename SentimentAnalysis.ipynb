{
 "cells": [
  {
   "cell_type": "code",
   "execution_count": 4,
   "metadata": {},
   "outputs": [
    {
     "name": "stdout",
     "output_type": "stream",
     "text": [
      "Collecting nltk\n",
      "  Using cached nltk-3.6.2-py3-none-any.whl (1.5 MB)\n",
      "Requirement already satisfied: regex in /Users/soham/Library/Python/3.8/lib/python/site-packages (from nltk) (2020.7.14)\n",
      "Requirement already satisfied: click in /Users/soham/Library/Python/3.8/lib/python/site-packages (from nltk) (7.1.2)\n",
      "Requirement already satisfied: joblib in /usr/local/lib/python3.8/site-packages (from nltk) (0.16.0)\n",
      "Collecting tqdm\n",
      "  Using cached tqdm-4.60.0-py2.py3-none-any.whl (75 kB)\n",
      "Installing collected packages: tqdm, nltk\n",
      "Successfully installed nltk-3.6.2 tqdm-4.60.0\n"
     ]
    }
   ],
   "source": [
    "!pip install nltk"
   ]
  },
  {
   "cell_type": "code",
   "execution_count": 5,
   "metadata": {},
   "outputs": [
    {
     "name": "stderr",
     "output_type": "stream",
     "text": [
      "[nltk_data] Downloading package names to /Users/soham/nltk_data...\n",
      "[nltk_data]   Unzipping corpora/names.zip.\n",
      "[nltk_data] Downloading package shakespeare to\n",
      "[nltk_data]     /Users/soham/nltk_data...\n",
      "[nltk_data]   Unzipping corpora/shakespeare.zip.\n",
      "[nltk_data] Downloading package stopwords to /Users/soham/nltk_data...\n",
      "[nltk_data]   Unzipping corpora/stopwords.zip.\n",
      "[nltk_data] Downloading package state_union to\n",
      "[nltk_data]     /Users/soham/nltk_data...\n",
      "[nltk_data]   Unzipping corpora/state_union.zip.\n",
      "[nltk_data] Downloading package twitter_samples to\n",
      "[nltk_data]     /Users/soham/nltk_data...\n",
      "[nltk_data]   Unzipping corpora/twitter_samples.zip.\n",
      "[nltk_data] Downloading package movie_reviews to\n",
      "[nltk_data]     /Users/soham/nltk_data...\n",
      "[nltk_data]   Unzipping corpora/movie_reviews.zip.\n",
      "[nltk_data] Downloading package averaged_perceptron_tagger to\n",
      "[nltk_data]     /Users/soham/nltk_data...\n",
      "[nltk_data]   Unzipping taggers/averaged_perceptron_tagger.zip.\n",
      "[nltk_data] Downloading package vader_lexicon to\n",
      "[nltk_data]     /Users/soham/nltk_data...\n",
      "[nltk_data] Downloading package punkt to /Users/soham/nltk_data...\n",
      "[nltk_data]   Unzipping tokenizers/punkt.zip.\n"
     ]
    },
    {
     "data": {
      "text/plain": [
       "True"
      ]
     },
     "execution_count": 5,
     "metadata": {},
     "output_type": "execute_result"
    }
   ],
   "source": [
    "import nltk\n",
    "nltk.download([\"names\",'shakespeare',\"stopwords\",\"state_union\",\"twitter_samples\",\"movie_reviews\",\"averaged_perceptron_tagger\",\"vader_lexicon\",\"punkt\",])"
   ]
  },
  {
   "cell_type": "code",
   "execution_count": 6,
   "metadata": {},
   "outputs": [],
   "source": [
    "from nltk.sentiment import SentimentIntensityAnalyzer\n",
    "sia = SentimentIntensityAnalyzer()"
   ]
  },
  {
   "cell_type": "code",
   "execution_count": 8,
   "metadata": {},
   "outputs": [
    {
     "data": {
      "text/plain": [
       "{'neg': 0.0, 'neu': 0.795, 'pos': 0.205, 'compound': 0.8519}"
      ]
     },
     "execution_count": 8,
     "metadata": {},
     "output_type": "execute_result"
    }
   ],
   "source": [
    "sia.polarity_scores(\"I have visited  the hotel many times. I suggest you come and enjoy at the hotel . The hotel is located near bts and mrt. You can come here and travel anywhere easily. The staff Chat and Liya have excellent service mind.\")"
   ]
  },
  {
   "cell_type": "code",
   "execution_count": 11,
   "metadata": {},
   "outputs": [],
   "source": [
    "score = sia.polarity_scores(\"I feel disappointed with staff, Service mind in hotel industry is the most important but i didn’t see any service mind from here, especially in Vanilla sky bar and Reservation staff! I can feel unprofessional :(\")"
   ]
  },
  {
   "cell_type": "code",
   "execution_count": 62,
   "metadata": {},
   "outputs": [
    {
     "data": {
      "text/plain": [
       "-0.8778"
      ]
     },
     "execution_count": 62,
     "metadata": {},
     "output_type": "execute_result"
    }
   ],
   "source": [
    "score['compound']"
   ]
  },
  {
   "cell_type": "code",
   "execution_count": 33,
   "metadata": {},
   "outputs": [],
   "source": [
    "f = open(\"Hotel Reviews DB/Bangkok/Bangkok_Hotels_Master.csv\", \"r\")"
   ]
  },
  {
   "cell_type": "code",
   "execution_count": 34,
   "metadata": {},
   "outputs": [],
   "source": [
    "urls = f.readlines()"
   ]
  },
  {
   "cell_type": "code",
   "execution_count": 37,
   "metadata": {},
   "outputs": [],
   "source": [
    "f.close()"
   ]
  },
  {
   "cell_type": "code",
   "execution_count": 55,
   "metadata": {},
   "outputs": [],
   "source": [
    "f1 = open(\"Hotel Reviews DB/Bangkok/Reviews/Bangkok_reviews_1.csv\", \"r\")\n",
    "f2 = open(\"Hotel Reviews DB/Bangkok/Ratings/Bangkok_ratings_1.csv\", \"r\")\n",
    "reviews = f1.readlines()\n",
    "for i in range(0, len(reviews)):\n",
    "    reviews[i] = reviews[i].rstrip(\"\\n\")\n",
    "ratings = f2.readlines()\n",
    "for i in range(0,len(ratings)):\n",
    "    ratings[i] = float(ratings[i].rstrip(\"\\n\"))\n",
    "f1.close()\n",
    "f2.close()"
   ]
  },
  {
   "cell_type": "code",
   "execution_count": 57,
   "metadata": {},
   "outputs": [
    {
     "data": {
      "text/plain": [
       "['I have visited  the hotel many times. I suggest you come and enjoy at the hotel . The hotel is located near bts and mrt. You can come here and travel anywhere easily. The staff Chat and Liya have excellent service mind.',\n",
       " '\"Checkin by Benz , Queen , Tarn form the front at the hotel they are so kind and best performance so many people who come to checkout but they can manange and handle it well recommend to come and visit here\"',\n",
       " '\"Good service, no glitches, near the subway station  Next to a shopping mall  And travel easily  If you do not know where to stay in Bangkok  Think about it here Quarter!   Good service without glitches. By Benz Tarn Queen\"',\n",
       " '\"For a long time i had to stay at The Quarter Ladprao for once, This place have good room (luxury room in Mid-range budget) and great service. i come to frontdesk before check in arrive about 8 hr but officer (Mr.Khaw) had to help me to check in Before ETA (Promotion) that vary vary good for me thank.\"',\n",
       " '\"I selected The Quarter Ladprao  for  my Family  because this hotel nearby Department store and easy to find the way that to go other place. This hotel have modern and luxury design more than paid. High quality of the hotel Good location, near MRT , MALL , 7-11 Very  good service  from staff\"',\n",
       " 'So beautiful!!!!!!!  The location is good and easy to find. The bed is so comfy but it is double so kinda small especially with a toddler. The staff name benz&noon were nice. Would consider staying here again.',\n",
       " '\"It was a very nice hotel and clean. Staffs name Benz,Queen,and Som are very helpful and kind. The hotel is in the center of the city. and MRT station is just 2 minutes from the hotel so it very comfortable\"',\n",
       " 'First impression OK welcomed by staff Karl chat. Kind welcome.  Easy to find opposite union hall close to MRT..  Souround with central shopping mall and 7m front.  Internat OK not the Fast but enough if not need to stream videos',\n",
       " '\"New hotel, very nice clean and with friendly staff.  The rooms are large and comfortable with excellent sleep quality.  Normal breakfast and swimming pool is very nice an the perfect place where relaxing. I will come back\"',\n",
       " 'Comfortable beds and clean rooms goof location continence transportation / Near MRT great standard  Thank you for the best service from the staff Khaw Liya and Chat professional guest service agent  for greeting.',\n",
       " '\"Got a nice welcome at a very first moment when check-in this morning with 2 lovely receptionist, tarn and chat. This is my second time at this hotel and would expect an excellent services as last time.\"',\n",
       " '\"Nice welcome from the receptionist, K.Som and K.Karl. Perfect location, close to MRT station. Variety of restaurants (including coffee shop and 7-11 convenience store) in the building and surrounded area.\"',\n",
       " '\"This is my 2nd time been here for doing business,   So good cuz Guest service k. Chat , k. Jane ,k. Khan Had very good service, I’m soo impressed :)  Good location, near MRT , MALL , 7-11    Thank you for ur service.\"',\n",
       " 'It was a very nice hotel and clean. Staffs are very helpful and kind. The hotel is in the center of everything you needed. We stayed here for a couple of days and MRT station is just 20 feet from the hotel which is fun holiday staying here.   Love here.',\n",
       " '\"On my travel period, I selected The Quarter Ladprao because this hotel nearby Department store and easy to find the way  that to go other place. This hotel have modern and luxury design more than paid.Moreover Jane  she are receptionist on the desk, she has described about the hotel and more information about attractive place and I\\'m very appreciated with the staff they are make me impressed\"',\n",
       " 'เข้าพักเพียงคืนเดียว และเลือกจองที่นี่เพราะเป็นเครือ UHG ที่เคยใช้บริการและเข้าพักมาก่อน เลยคาดหวังว่าน่าจะบริการได้มาตรฐานเดียวกันหมด แต่ตอนเช็คอิน กลับไม่เป็นไปตามที่คาดหวัง เพราะว่า วันที่เข้าพักได้โทรไปหาทางโรงแรมเพื่อแจ้งขอเปลี่ยนจากเตียงใหญ่เป็นเตียงคู่ (เนื่องจากเดินทางมากับพี่สาว) พอเช็คอิน GSA กลับไม่รู้เรื่อง ต้องเช็คห้องกันวุ่นวาย และให้รอจนถึง Check-in time คือ 14.00 น จึงได้ห้อง 922 (เข้าใจว่าเวลาเช็คอิน คือ บ่ายสอง) เมื่อเข้าไปถึงห้องกลับพบว่าเป้นเตียงใหญ่ (2 เตียงคู่ชนกัน) ต้องโทรแจ้ง Front ให้วุ่นวายอีกรอบ รอทาง Bell เอา Key card ใหม่มาเปลี่ยนให้ อีก 20 นาที เสียเวลามาก ได้ย้ายไปห่้องใหม่ 911 ซึ่ง Block View เลย และ ตลอดทางจากห้อง 922 ไปยังห้อง 910 แม่บ้านวางรถเข็น ตะกร้า กองผ้า ระเกะระกะ ไปหมด ความสะอาด ถือ ว่า สอบตก หากเทียบกับ เครือ UHG ที่อื่นที่เคยพัก',\n",
       " '\"Thank you for you support , Receptionist it so good ( K.Jane & K.Benz ) because I need to check in before 10.00 am  and she can to do it , and I very happy time .   Having a chance, I will come back for sure.   Thank you to The quaerter Ladprao .\"',\n",
       " '\"Really nice hotel very convenient across from the shopping mall. The staff are very nice attentive and helpful. I was arriving to the hotel earlier than check-in time the front desk Benz and Khao were very nice finding the room that available and let me check in early, very thankful! Recommend.\"',\n",
       " 'This hotel was so nice to sleep. All of stuff had very good service mind. The environment was so cozy and comfortable. The location was very close to the shopping mall and BTS sky train. If you’re looking for a great hostel just came here and you will have everything you want. I especially appreciate K.Benz and K.Karl for a very good service.',\n",
       " '\"Enjoyed my one month stay at this hotel surrounded by two big shopping malls. It offers great amenities with swimming pool, car park, and a well-equipped gym for workout. The mrt and bts skytrain are just within few minutes walk from the hotel. The chatuchak park is less than 10 minutes walk which you can jog or enjoy the public sport facilities like tennis.   The room is clean, neat, and tidy, with a comfortable bed and 55” smart TV. The service staff (in particular Ms Som from reception) are polite, helpful, and well-mannered. Just wanna thank them for making the stay so enjoyable and pleasant as if I am back in my own home:)\"',\n",
       " '\"The room is on the 15th floor, size 24 square meters, very wide, not uncomfortable.  Very good service and comfortable,  Suitable for a stopover in the city. Near transportation, such as mrt, bts and shopping malls.\"',\n",
       " '\"Hotel staffs are very friendly and helpful. I asked for early check in before 12PM but arrived at 11AM. Staffs, K’Som and K’Deniz, prepared a room for me in only 30 minutes even though last night most of room were fully booked. Very impressed\"',\n",
       " '\"I received a complimentary early check-in assisted by the team of Deniz, Dome, and Som. The room is spacious overlooking swimming pool and shopping malls and it is not noisy at all even situated near the Lat Phrao junction. I like the workspace and Wi-Fi router provided in the room. On the contrary, the bathroom has a weird elevated step and need a little warning sign. Overall, it is of great value especially when booking under government’s subsidy scheme.\"',\n",
       " 'I stayed at this hotel for 5 days. The room was clean and quiet. The Internet was reliable. The breakfast had a large variety of foods including western and Thai. Any requests I made was taken care of in an efficient and professional manner. I also liked the fact that the metro was within walking distance.',\n",
       " 'Modern hotel with modern facilities. However have several big disadvantages:  1. No soundproof. You can hear everything that next room speaking. Lucky if they not turn on TV.   2. When sleeping from air conditioner smoking smell is coming. Meaning that someone from other room was smoking and definitely it is very bad. My room was full of smoke smell. And during check out reception asked me: Were you smoking? I told no... and it is from air con. Definitely not pass new normal standards.  3. Breakfast i would say very simple. Even no bacon. Coffee machine not set up properly and can make only espresso shot even that it is still need to press several times to get it done. Staff just chatting in reception area of entering for breakfast.  4. Nobody measure temperature when enter',\n",
       " '\"Thank you, Khun Dome, Khun Kworn, Khun Liya for taking care of us very well, and we will comeback again.  Room so clean and the hotel is located good area near MRT as well, I like 7/11 in front of the hotel.\"',\n",
       " 'Great services by receptionists especially Dome and Liya. Affordable price and the room is very clean and quiet. There are many food promotions such as 10 percent discount for food and free welcome drink.',\n",
       " '\"I’m here for several times. During my stay the staffs are very friendly and helpful. The views from the room are beautiful, Ladprao coty view. The hotel’s location is very convenince next to MRT Ladprao, very near 2 malls\"',\n",
       " '\"I choose to stay at The Quarter Ladprao for a few times already and I\\'m really appreciate stuff at front desk (K.Liya, K.John & K.Tarn), as usual with a warm welcome from the first moment you walk in. I can say that I will always choice to stay here when I have some errands in Bkk.\"',\n",
       " '\"I just booked the room right after my arrival at DMK (an hour prior to check-in) and feel tired from travel. With Khun SOM and IMMY, I got the room as soon as I showed up at the hotel. I appreciated their organization.\"',\n",
       " '\"I was appreciated about the service of this hotel especially K.Som and K.John front dest they provide me a service by professional team. Further more, Location very easy to transport by MRT loveeeeeed\"',\n",
       " '\"บริการดีค่ะ facility ครบ ทำเลดี ของกินเพียบ  ติด MRT ด้วย ใกล้ Union mall ค่ะ shopping กระจาย ถ้าชอบ ใกล้สิ่งอำนวยความสะดวกทุกอย่าง  Good serviced, Full facility, Good location, Closed to MRT station. Also close to shopping mall\"',\n",
       " 'Nice front desk staff  are helpful and good service  can leave the luggage  for shopping and back for check in time at 2 pm. Room very nice and breakfast so good . Location is the best  near shopping mall and mass transit.',\n",
       " \"It's closed to MRT and department store; Union Mall and Central Ladprao. Front staffs are helpful and serviced mind. The room quality is quite good but please careful about cleanliness due to some guests expected more.\",\n",
       " '\"Quick checking in with professional and friendly staff (Khun Jane), comfy bed and clean room. We will comeback here for sure. Thank you for giving us good experience to stay with you. Room 1620,1621 ,18-20 Sep 2020\"',\n",
       " '\"Special Thanks for very good assist to Som & Jida at reception counter. No matter how early checked in, during waiting for room you can join gym and swimming pool at 6 floor with free of charged.  Nice city location, nice room, quite and clean.\"',\n",
       " '\"I\\u200b stayed\\u200b there\\u200b for\\u200b shopping\\u200b purposes.\\u200b The\\u200b hotel\\u200b is\\u200b just\\u200b opposite\\u200b the Union\\u200b shopping\\u200b mall  and\\u200b not\\u200b too\\u200b far\\u200b from\\u200b Jatujak\\u200b market.\\u200b Room\\u200b is\\u200b comfortable\\u200b for\\u200b 1-2\\u200b people, nice\\u200b and\\u200b clean.\\u200b Staff\\u200bs were  friend\\u200bly  especially the\\u200b guy\\u200b at\\u200b reception.\\u200bI\\u200b definitely will\\u200b be\\u200b there\\u200b again.\\u200b\"',\n",
       " '\"The Hotel is amazing! Very clean room with a large window, there is everything you need: towels, slippers, mini bar, etc. the swimming pool area is nice, you can get towels from the fitness center nearby. The staff was friendly. Special thanks to Oum, she was very polite and helpful!\"',\n",
       " '\"The hotel is one of those semi condo converted to a hotel. Rooms are excellent. Clean, stocked minibar, Good shower. Although my rain shower was not working.  The concierge staff is very helpful. Overall the staff is very friendly.  Breakfast is very good for the price.  The location is key though. Practically next door to Union Mall and MRT. 7 11 in front of the hotel.  Really quiet.  The only disappointment was Check out. It was slow. Took me 15 minutes. FO staff allowed guests to cut in. Nobody doing anything to perhaps make the process faster such as ask the room number of guests in advance and send information to housekeeping to check.  Other than that a great stay.\"',\n",
       " '\"This is so great , im come here early , usually i might pay for fee because im check in early ,but The quarter so great they have hurried clear for our room and let me check in thank you K’mind & K’Noon so much.\"',\n",
       " '\"As titled, we were happy in overall. The water pressure in the shower has improved as compared to our last stay.   Breakfast selections could have more variety, e.g hot noodles soup, pancakes, fresh juices.   It will be perfect if the complimentary late check-out could be 4pm (since many rooms are vacant due to covid)  Overall, we would be back for sure as it is really convenient for shopping.\"',\n",
       " '\"beautiful decoration ,close to MRT Phahon Yothin and central plaza Lad prow. Easy to transport and travel. Also has 7-11 in front of the building. so much convenient here!!. The receptionist, Aum and Karn kindly welcome us. thank you!! I would recommend to others\"',\n",
       " '\"I booked my stay through the hotel website from May 24 till end of the month, then I extended my stay as a walk in guest for 5 days, later on I extended my stay one more time for one week through booking.com to check out on June 12, after spending great 19 days stay.   Hotel: very well operated and managed.  Room: Nice and comfy.  Room Price: Great value for money.   Gym: very well equipped with attached studio for body weight workouts. Swimming pool: Crystal clear clean water with nice views.  Parking: Free.  HK: outstanding kind hardworking dedicated trustworthy  staff specially the lady who was on duty on my checkout day.   Front Office:  Kan, observant smart customer service oriented. Night shift gentlemen receptionist, helpful and decent.  Som, good leadership skills,\"',\n",
       " '\"I would like to recommend the hotel. The hotel is very good. Cleanliness, safety, transportation excellent service. Reception name \"\"chat\"\" she friendly and she help me anytime.just try it by yourself...:)\"',\n",
       " '\"This was one out of five hotels I stayed at over a two month span. The Quarter Ladprao by UHG ranks at the top of them all. It very well may be one of the best hotels in Bangkok, especially when considering the amenities provided, the location, and the reasonable rates. Sure, not everyone\\'s experience during their stay here is going to be the same but I think you\\'d really have to be searching for something to criticize to not enjoy yourself. The rooms were spacious and decorated in modern chic. The gym is fully functional proper gym. The pool is a rather nice size and presents a very comfortable area to lounge around. I thought the food was above average overall. The staff is terriffic- gym-side, poolside, in the restaurant, the housekeeping team, and the front desk staff.\"',\n",
       " '\"Thanks you so much receptionists Kan and Mild ,they are very friendly and helpful for early check-in 3 hours before the deal times to us 🥰🥰 - breakfart was good  - good location near Central Ladproa. you can walk to there.\"',\n",
       " '\"The hotel room was spacious and new.Housekeeping changes all our bedsheets daily. Reception staff name:Chat,Kan and a tall guy which is very friendly and helpful,also especially 2 ladies restaurant staffs. I will definitely visit this hotel again. The Quarter hotel is really fortunate to have all this capable staffs who goes to the extra miles.\"',\n",
       " '\"thank you for good service Kan and Mild , i am so happy when have good hotel and good service like this early check in from this hotel it\\'s amazing , i recommend to all people go here and try amazing service\"',\n",
       " '\"I absolutely loved the hotel. The room is very neat and the bed is big and confortable. The woman in the reception, named Som, spoke very good english. She was lovely and helped me with everything I needed. I stayed here for only one night, but it was honestly one of the best stay in thailand i had so far. If I am ever in bangkok again, I will for sure stay in this hotel again.\"',\n",
       " 'I love this hotet so much. More relax and comfortable feel. My room is in 16fl. I Can see nightacape view of bangkok from bacony. Reception kun kan and art  Very nice. Recommended for travelsick from covid like me.',\n",
       " '\"I am very happy with service,espacially room and facility(best), clean and quiet and best view. And The staffs(Mild and Chol) give me a warm, welcome and excellent service mind. Hopefully ,the next time i will come to visit here again. I recommended for fuve star service.\"',\n",
       " '\"Absolutely loved our stay. Friendly staff, 7-eleven at the door. Union mall across the road and MRT around the corner and BTS 5 minutes walk. The pool was great as was the restaurant. Had no problems getting breakfast which was included with our room package. Not in the middle of the city center but that suited us with a 3 year old in tow. Heaps of good food in Union Mall. Xhatachuk market is only a station away either on the BTS or MRT. No kinds activities but a kids play room in the shops downstairs but kick boards are provided in the pool area.\"',\n",
       " '\"We stayed here for 8 nights and we will definitely come back.   Very friendly staff and good value for money.  The hotel is located only 2-3 mins to MRT, Union Mall and 5 mins to Central Plaza.  The room was modern and clean, we liked the comfortable beds.  It has a well equipped gym and nice pool.  The breakfast was outstanding with variety of choices.\"',\n",
       " '\"The Hotel is near to the blue and green Sky Train line. The rooms are stylish, modern and clean as well. A big thank you for the great service from the employees. especially from Chat, Jida and Tan! :)  We would come back anytime again!\"',\n",
       " '\"Oum and Chat were very nice. We arrived at the hotel around noon, but the check-in time was 2 pm. However, Oum and Chat helped us finding an available room, hence, we could do an early check-in immediately. The hotel is only 2 mins walking distance to the metro and about 10 mins walking to the sky train.\"',\n",
       " '\"Very good location, near MRT and BTS, new hotell. Good breakfast, but I am not totally happy with the service: After finding out that our bathroom and toilet was not cleaned, took pictures and went down to the reception to complain, asked a boy there that I wanted to talk to the manger, he told me that he is not here, what can I help you with? I told him the story that when I came back to the room after a long day in town and putting on the cleaning sign, putting the towels on floor (as a sign that you want a new one as told in the hotell card) I see that its not cleaned and I have still the old towels just folded with the same dirt on them. He said ok sorry I will tell the manager and tried to look away. I don\\'t know what\\'s going on, but I expected that he came with the\"',\n",
       " '\"This hotel is great, not only is it super reasonably priced for the service and amenities on offer/ location, but the overall feel of the hotel is that of a quality hotel.  I loved the gym, the pool and the restaurant, and of course the room was great.  I am a bit of a conservationist, so I don\\'t really like wasting material things.. This is why I was happy to see that the shower gel, shampoo and soap were all refillable.   This was great, because there was no waste in product packaging (also the three items were quite luxurious, made from really nice ingredients, that didn\\'t dry my skin or hair at all).  The front desk staff are really friendly and helpful.  I stayed for about 10 days in all so I kind of lived there a bit, Som in particular was so helpful.  She helped me plan\"',\n",
       " '\"We stayed here a couple of times and we will definitely come back. Very friendly staff, special thank to Oum Chart Som and to the doorbell. Very good value for money. We like the comfortable beds and the closeness to MRT and BTS train station.\"',\n",
       " '\"I had been here for many times. The hotel located in the middle of two shopping malls. MRT station is located in front of the hotel which super convince for tourists. The hotel is surrounded by many restaurants. Moreover, the hotel has good facilities and services. The staffs are also very nice, especially khun.Nan and khun.Chat.\"',\n",
       " '\"I picked this hotel due to its proximity to Chatuchak market and would use it as a great base again. The MRT is right next to the hotel entrance and gives you direct access to the market - cheap and easy. The hotel staff were all really professional and welcoming, and the pool is a great size for Bangkok. Room was lovely and clean and everything made it an ideal spot for shopping.\"',\n",
       " '\"저의 부모님이 태국을 방문하게 되어 이 호텔을 예약하였습니다. 부모님을 위한 꽃다발 과 와인, 동영상촬영 등, 무리한 부탁임에도 미소를 잊지않으며 저희를 위해 해줄수 있는 모든 지원과, 서비스를 해주었습니다. 특히 som, jida, chat은 최고의 서비스를 해주셔서, 저희 부모님이 지내는동안 불편함 없이 지내다가 가셨습니다. 최고의 추억을 만들어 주신 세분께 정말 감사하다는 말씀 드리고 싶습니다.  Your service made me ecstatic, and my parents were lucky to meet this hotel.. Thanks som, jida, chat\"',\n",
       " '\"This is our 3rd time in this hotel and it is located conveniently close to Don Mueng airport and Jatujac weekend market. Breakfast is very delicious and the ladies at the reception are just amazing, Ms Jeda, especially, and others. And the pool is clean, and cool. We can only recomend this hotel. We will def come back again.\"',\n",
       " '\"A bit far from bangkok center , if u are looking for a peaceful stay in Bangkok, go for it. To reach the center sky train facility is available, which is very convenient from the hotel. Staff behavior was very good. Have a nice stay at the hotel.\"',\n",
       " '\"One of the best hotels I have stayed in in Bangkok. And the best part is that it is immediately next to the metro stop ... so travel within Bangkok is easy. It has a nice swimming pool, nice lobby and the rooms are extremely well appointed. and nice wife signal in the room. Also nice mixture of European and Asian guests. Also, nice staff. For sure, we will stay here again.\"',\n",
       " '\"The Quarter is strategically located beside Station 31 of the Blue Line MRT and across Union Mall. Location is convenient to cater with your immediate needs. Though the location is quite far from most tourist destinations, it will only take you 40 mins and cost you around 200 THB if you travel by Grab (car).   The staff are great and very accommodating.\"',\n",
       " '\"We immediately felt welcome in the hotel. Even though we arrived a couple of hours early for checkin, receptionists Chat and Oum were extremely helpful and arranged that we had a room (with a great view) ready and available almost immediately. This was particularly helpful after a long journey with a tired crying toddler. The other staff were also very helpful, arranging our luggage for us. The hotel is also conveniently located, the rooms are modern and  hotel facilities are great. I would definitely recommend to stay here.\"',\n",
       " '\"Very nice hotell, big pool with lots of sunbeds and a really professional gym. The breakfast is great. It\\'s clean and all over fresh and modern.  Great value for you buck spend. Very helpful staff, thanks Karl\"',\n",
       " '\"Most I like about this hotel is very good pool area and very good fitness. Neigbourhood offers some shopping(Union Mall 1min away), eating(good Kao Soi restaurant 1min away), entertainment(live music bar 1 min away) opportunities. Area is mainly local thai people and not so turistic. Good breakfast with variety of choices, restaurants offers thai seafood barbecue deal dinner for about 1.500 baht. Highly professional and friendly staff, especially receptionists Jida, Jane & Chat.  I will come again to this hotel.\"',\n",
       " '\"really nice hotel. jida, jane and chat at the check inn where very friendly. the gym is just amazing and huge. breakfast was really good and the location is good to. shoppingmall next to the hotel. good stay\"',\n",
       " 'The hotel is one the best I have ever stayed in. The room is sparkling clean and the bed is nice and comfy. The wifi speed is fantastic and the best part is that we can stream our mobile content through chromecast inbuilt in the tv. I will never hesitate to comeback and refer people to this property. A special shoutout to Jida and Chat from the frontdesk who ensured our stay was as best as possible. Keep up the good work people. And the breakfast was outstanding. Lots of western and local choices on offer.',\n",
       " '\"Nice front desk staff and comfort.  they kindly guided me even though i arrived early. thanks to staff, Nan, Jida,Jane.  hotel is in a very good location. easy to access to central ladprao and union mall and Mrt, Bts.  recommend ~~!!.\"',\n",
       " '\"The hotel is clean and looks new. Lobby is also nice to chill. Staff are efficient, check in process was a breeze done by the 2 friendly Receptionists Jane and Jida. Would stay here again if I come back to Bangkok.\"',\n",
       " 'I really enjoyed to stay in this hotel very clean and close to transportation and shopping center and staff here is very good and helpful especially staff name Jane and Karl receptionist they did a great job and I am surely to stay agian here',\n",
       " '\"My family arrived even earlier then expected. We were extremely exhausted. Receptionist (Jida) helped us with early check in. She is so kind, nice, super professional. So happy to stay here. We enjoyed our happy trip in Bangkok.\"',\n",
       " '\"We have arrived 5 hours earlier. Jida - the girl at the reception was amazing!! She let us in earlier. Room was clean, nice, location is great! All in all, great experience especially because you have staff like Jida!\"',\n",
       " '\"Really nice hotel, great location just next to MRT and seven eleven. Close to Chatuchak Market. Stuff were friendy and polite Jida and Jane were helpful when we need something. I would recommend the hotel.\"',\n",
       " 'We reached the Quarter after more than a full day of travel and it felt like an oasis. We arrived early because of flight times but Jida was extremely welcoming and understanding to help us get settled in :)',\n",
       " '\"Great hotel with a modern/minimalistic style in the rooms, has all the amenities that you\\'d need along with a great view of the city as well. Fairly easy to find, especially if you are arriving by subway/MRT which is just in front of the hotel, or you can spend 5 minutes walking from the skytrain/BTS to reach the property.  Room was of standard size for Bangkok and has a balcony and spacious bathroom as well, and a great rain shower which is always a plus.   Service was quick and efficient, in the evening I sat by the pool and had a couple of beers and G&T, which for the price value was excellent to just sit there and chill.\"',\n",
       " '7 eleven right below the hotel.  Plastic surgeon clinic right beside.  Massage salon less than 1 min walk.  Good massage and reasonable price.  A bit out of tourist place but Grab n taxis easy to get . There is a nail salon next door stated open every-day but we stayed there 4 days 3 night was not open at all.',\n",
       " 'Upon arrival we were early and Jida had checked us in and helped store luggage. We returned at 2pm and found a very updated room from what we may have expected. The pool area was nice had adjacent restaurant but lounges had no padding had to ask for pool towels. We stayed 2 nights and had a great experience. Food and drinks in hotel were priced as expected for this type of accommodation. Breakfast was included in our package. Mall across street and subway to access easily. Nice place would return.',\n",
       " '\"Pleasant service and hospitality by Khaw, Jida and Jane. The check-in is very smooth and the room is clean. We would love to stay here again on our next visit to Bangkok. Should consider taking the breakfast next time.\"',\n",
       " '\"I love their friendly and good service at The Quarter Ladprao.  Due to earlier flight , I reached hotel before 10am . And I just try by chance to check the room availability for earlier check in with the staffs at reception ans they greet me friendly with a smile.. and said to me, “we will check for you now “ and within few minutes they manage to find a room for me. In addition , they explained to me the earlier check is subjected to the room availability and depend hotel traffic, .And I am totally understand it and accepted happily.   I am so happy and they make my day as I need a room to take a rest now ... thanks to the staff , Mr Khaw, Ms Jida and Jane..  Definitely come back again !!!!!\"',\n",
       " '\"I want to THANK Liya for helping me solve EVERY problem that I encountered, and always wearing a big smile on her face👍🏻  Of course this is her job, but she did more than that!  飯店在MRT出口一上來轉灣就到、門口有711\"',\n",
       " '\"We stayed 5 nights at the Quarter Ladprao after the Christmas. Staff are very friendly and helpful. The room is clean and the bed is comfortable. No microwave in the room likes the Quarter Ari, however the location is more convenient and easy to access to both MRT and BTS plus shopping centres nearby. Be aware of the room near the store room, it is noisy in the morning. The pool is decent size and the sitting area near the pool is spacious. The downside is smokey smell from the restaurant if there is a bbq cooking. The gym is good size and opens to both hotel guest and the public.\"',\n",
       " '\"We got a big and soft bed also with nice bathroom. Staff was very nice! There are service like Sauna, Drink and Showering after we checked out. LUV IT The location is quite near to Department store. Security is great too.\"',\n",
       " \"The bed was as hard as the floor. I booked 3 nights but checked out after one sleepless night. This isn't a 4 star hotel. If you don't mind the concrete firm bed it's situated in a area with a few restaurants and shopping centre. 7/11 next door. I will not be returning in 9 weeks travelling this year in Asia this is the worst bed and night's sleep.\",\n",
       " '\"we stayed here one night I went to the hotel to check in earlier than expected, but the Liga receptionist, Art helped us check in early, she made my trip very good.  , the hotel has a beautiful view from above, I highly recommend that everyone come here, once again I would like to thank Liga, Art\"',\n",
       " '\"My experience was great : the hotel is very-well located (100meters from the metro station phahon yothin - don\\'t mix with the other one phahon yothin24 which is far away), brand new and clean. The breakfast was perfect and...until 10:30.   Special thank you and 5 stars to Liya and Jida staff\\'s member who were very kind and helpful.  We stayed 2 nights with my wife. We, then, had to come back to Bangkok at the end of the week, we choosed again this hotel.\"',\n",
       " '\"I got very good service from staffs(Miss.Jida & Miss.Kan) Thanks for you kind. Clean room with good location for shopping , yummy street food and food court. Swimmimg pools and Fitness are good equipments. Have a coupon for welcome drink. I will be back again.\"',\n",
       " '\"Art, Nan and Karl were so welcoming. Lovely environment and service! The whole area is very Christmas-y. There were nice tree and festive season decorations. Made our stay seem welcoming and special - thanks again!\"',\n",
       " '\"Our stay has been nothing but pleasant at the Quarter Hotel. From the moment we arrived we felt welcome and taken care of. They even give you welcome drink coupons that we later used at the restaurant.  Deluxe room is definitely worth it. It is much bigger and nicer. We requested a quiet room on a high floor. That is exactly what we got. Our room was on the 12th floor facing a quiet alley. The view from the balcony was amazing at all hours of the day. Smart TV, comfortable bed, clean bathroom with the necessary toiletries, fridge, umbrella, safe, hangers and tea, coffee, water stocked daily, etc., everything we possibly needed was provided. The rooms are cleaned very well daily.  The breakfast buffet is yummy with many choices. Every staff we met was super nice and always\"',\n",
       " 'Location is superb with loads of stuff to eat around.  Check in was a breeze with Liya / Art with their warm hospitality.   Room is very trendy and modern. I would definitely recommend it for anyone looking for nice place to stay around',\n",
       " '\"Great location; a lot of restaurants and stores near the hotel, and the most important part in travelling is they have lot of access in transportation like train, taxi and etc.   The front desk staff are really accommodating especially LIYA and AUM. They are also good in english. Thumbs up for these two!   The breakfast buffet is quite good for 200+ thb. I wish there is cheese varieties to choose next time and more Thai foods. Over all, the best hotel in Bangkok is The Quarter Ladpra by UHG :) Affordable and Worth the experience.\"',\n",
       " '\"All staffs from Breakfasts/Dinning area in this hotel provide \"\"Outstanding Customer Services\"\" and perform extra miles job.  Each day, you will be greeted by them with \"\"Beautiful smiling gesture\"\" and they make you feel warm and welcome and  starting your day with wonderful experiences.  They are truly respectful and all are motivated to do excellent job on their duties. Our special thanks and appreciation to the Waiter/Waitress: Fame and Action, Mook, Nam, Au and many more staffs.  This is truly signature valuable Bangkok hotel which is held by these all excellent and fabulous staffs.  Highly recommend and welcome to this paradise.  Wishing all of you have a bright future!\"',\n",
       " '\"Great location and excelent service from Mr Keng very helpful guy to drop my luggage and order the taxi from his phone. The room is nice, have a pool and fitness center and close to the mall where we easy to find the food and some clothes we like. We suggest this hotel if you come to Thailand.\"',\n",
       " 'The Quarter is very conveniently located. 1 min from the metro and 8 mins to the skytrain. You got 2 malls across the street. 3 mins from union mall and about 8 mins walk to central plaza mall. Food everywhere anytime. Breakfast is ok. Value for money. Keng and Bas at the concierge service were very helpful. They helped us to book a car everyday. Very satisfied.',\n",
       " '\"We stayed for 3 nights at this hotel. The location is very good, next to the metro station, not very far from the center.  Nice hotel, clean, acceptable breakfast.  The only minus is the noise (it has thin walls), but it compensates for a lovely staff that can help a lot if you need anything. If you find at the reception Oum, Best, or San, you\\'re saved! They managed to do early check-in for us and change the room because of the noise.\"',\n",
       " '\"I lost my phone in Thailand.She help me lot and do everything she can do for me,I really appreciated.If you guys have a chance to visit Bangkok,please check this hotel. 很感謝她能夠幫助我一起找手機，雖然最後沒有找回我的手機，但她的確幫了我很多，讓我感到很安慰，謝謝這位女櫃檯服務人員。\"',\n",
       " '\"pros :  - breakfast was fantastic, great choice and well made - good location for travel via Don Mueang International Airport - great location with easy access to the shopping mall just across the road - good bed and sleep, not fantastic at sound proof as we can hear noise from neighbors  cons: - room size wasn\\'t great\"',\n",
       " '\"The hotel looks really nice. Hotel room is very clean and spacious. The location is the best!! All the staffs are very friendly and helpful especially Aum, front desk. She is really kind and nice to us.\"']"
      ]
     },
     "execution_count": 57,
     "metadata": {},
     "output_type": "execute_result"
    }
   ],
   "source": [
    "reviews"
   ]
  },
  {
   "cell_type": "code",
   "execution_count": 68,
   "metadata": {},
   "outputs": [
    {
     "name": "stdout",
     "output_type": "stream",
     "text": [
      "20\n"
     ]
    }
   ],
   "source": [
    "import re\n",
    "pattern = \"Reviews-(.*?)-Bangkok.html#\"\n",
    "hotels = []\n",
    "for url in urls:\n",
    "    hotels.append(re.search(pattern, url).group(1))\n",
    "\n",
    "print(len(hotels))\n"
   ]
  },
  {
   "cell_type": "code",
   "execution_count": 73,
   "metadata": {},
   "outputs": [],
   "source": [
    "polscores = []\n",
    "for review in reviews:\n",
    "    polscores.append(sia.polarity_scores(review)['compound'])"
   ]
  },
  {
   "cell_type": "code",
   "execution_count": 74,
   "metadata": {},
   "outputs": [
    {
     "name": "stdout",
     "output_type": "stream",
     "text": [
      "100\n",
      "100\n"
     ]
    }
   ],
   "source": [
    "print(len(polscores))\n",
    "print(len(ratings))"
   ]
  },
  {
   "cell_type": "code",
   "execution_count": 85,
   "metadata": {},
   "outputs": [
    {
     "data": {
      "image/png": "[encoded data removed]",
      "text/plain": [
       "<Figure size 432x288 with 1 Axes>"
      ]
     },
     "metadata": {
      "needs_background": "light"
     },
     "output_type": "display_data"
    }
   ],
   "source": [
    "from matplotlib import pyplot as plt\n",
    "plt.plot(ratings)\n",
    "plt.plot([2.5*(i+1) for i in polscores])\n",
    "plt.show()"
   ]
  },
  {
   "cell_type": "code",
   "execution_count": null,
   "metadata": {},
   "outputs": [],
   "source": []
  }
 ],
 "metadata": {
  "kernelspec": {
   "display_name": "Python 3",
   "language": "python",
   "name": "python3"
  },
  "language_info": {
   "codemirror_mode": {
    "name": "ipython",
    "version": 3
   },
   "file_extension": ".py",
   "mimetype": "text/x-python",
   "name": "python",
   "nbconvert_exporter": "python",
   "pygments_lexer": "ipython3",
   "version": "3.8.7"
  }
 },
 "nbformat": 4,
 "nbformat_minor": 4
}
