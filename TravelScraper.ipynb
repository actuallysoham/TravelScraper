{
 "cells": [
  {
   "cell_type": "code",
   "execution_count": 31,
   "metadata": {},
   "outputs": [],
   "source": [
    "#!pip3 install BeautifulSoup4\n",
    "#!pip3 install lxml --upgrade"
   ]
  },
  {
   "cell_type": "code",
   "execution_count": 2,
   "metadata": {},
   "outputs": [],
   "source": [
    "import requests\n",
    "from bs4 import BeautifulSoup as soup "
   ]
  },
  {
   "cell_type": "code",
   "execution_count": 84,
   "metadata": {},
   "outputs": [],
   "source": [
    "source = requests.get('https://www.tripadvisor.com/Hotels-g298570-Kuala_Lumpur_Wilayah_Persekutuan-Hotels.html').text\n",
    "#https://www.tripadvisor.com/Hotels-g293916-Bangkok-Hotels.html\n",
    "#https://www.tripadvisor.com/Hotels-g294265-Singapore-Hotels.html\n",
    "#https://www.tripadvisor.com/Hotels-g298570-Kuala_Lumpur_Wilayah_Persekutuan-Hotels.html\n",
    "bsobj = soup(source,'html.parser')\n"
   ]
  },
  {
   "cell_type": "code",
   "execution_count": null,
   "metadata": {},
   "outputs": [],
   "source": [
    "print(bsobj.prettify())"
   ]
  },
  {
   "cell_type": "code",
   "execution_count": 85,
   "metadata": {},
   "outputs": [
    {
     "name": "stdout",
     "output_type": "stream",
     "text": [
      "https://www.tripadvisor.in/Hotel_Review-g298570-d3730389-Reviews-Aloft_Kuala_Lumpur_Sentral-Kuala_Lumpur_Wilayah_Persekutuan.html#REVIEWS\n",
      "https://www.tripadvisor.in/Hotel_Review-g298570-d15189916-Reviews-The_RuMa_Hotel_and_Residences-Kuala_Lumpur_Wilayah_Persekutuan.html#REVIEWS\n",
      "https://www.tripadvisor.in/Hotel_Review-g298570-d15226099-Reviews-Pavilion_Hotel_Kuala_Lumpur_Managed_by_Banyan_Tree-Kuala_Lumpur_Wilayah_Persekutuan.html#REVIEWS\n",
      "https://www.tripadvisor.in/Hotel_Review-g298570-d14166349-Reviews-Banyan_Tree_Kuala_Lumpur-Kuala_Lumpur_Wilayah_Persekutuan.html#REVIEWS\n",
      "https://www.tripadvisor.in/Hotel_Review-g298570-d301416-Reviews-Mandarin_Oriental_Kuala_Lumpur-Kuala_Lumpur_Wilayah_Persekutuan.html#REVIEWS\n",
      "https://www.tripadvisor.in/Hotel_Review-g298570-d13424907-Reviews-Four_Seasons_Hotel_Kuala_Lumpur-Kuala_Lumpur_Wilayah_Persekutuan.html#REVIEWS\n",
      "https://www.tripadvisor.in/Hotel_Review-g298570-d14023546-Reviews-W_Kuala_Lumpur-Kuala_Lumpur_Wilayah_Persekutuan.html#REVIEWS\n",
      "https://www.tripadvisor.in/Hotel_Review-g298570-d12714640-Reviews-Sunway_Velocity_Hotel-Kuala_Lumpur_Wilayah_Persekutuan.html#REVIEWS\n",
      "https://www.tripadvisor.in/Hotel_Review-g298570-d555433-Reviews-Hilton_Kuala_Lumpur-Kuala_Lumpur_Wilayah_Persekutuan.html#REVIEWS\n",
      "https://www.tripadvisor.in/Hotel_Review-g298570-d305721-Reviews-Sunway_Putra_Hotel-Kuala_Lumpur_Wilayah_Persekutuan.html#REVIEWS\n",
      "https://www.tripadvisor.in/Hotel_Review-g298570-d3672924-Reviews-The_Majestic_Hotel_Kuala_Lumpur-Kuala_Lumpur_Wilayah_Persekutuan.html#REVIEWS\n",
      "https://www.tripadvisor.in/Hotel_Review-g298570-d10305154-Reviews-VE_Hotel_Residence-Kuala_Lumpur_Wilayah_Persekutuan.html#REVIEWS\n",
      "https://www.tripadvisor.in/Hotel_Review-g298570-d1513762-Reviews-Royale_Chulan_Kuala_Lumpur-Kuala_Lumpur_Wilayah_Persekutuan.html#REVIEWS\n",
      "https://www.tripadvisor.in/Hotel_Review-g298570-d1887105-Reviews-PARKROYAL_Serviced_Suites_Kuala_Lumpur-Kuala_Lumpur_Wilayah_Persekutuan.html#REVIEWS\n",
      "https://www.tripadvisor.in/Hotel_Review-g298570-d9701808-Reviews-Oasia_Suites_Kuala_Lumpur_by_Far_East_Hospitality-Kuala_Lumpur_Wilayah_Persekutuan.html#REVIEWS\n",
      "https://www.tripadvisor.in/Hotel_Review-g298570-d4449878-Reviews-Lanson_Place_Bukit_Ceylon_Serviced_Residences-Kuala_Lumpur_Wilayah_Persekutuan.html#REVIEWS\n",
      "https://www.tripadvisor.in/Hotel_Review-g298570-d301406-Reviews-Pullman_Kuala_Lumpur_City_Centre_Hotel_Residences-Kuala_Lumpur_Wilayah_Persekutuan.html#REVIEWS\n",
      "https://www.tripadvisor.in/Hotel_Review-g298570-d608399-Reviews-Traders_Hotel_Kuala_Lumpur-Kuala_Lumpur_Wilayah_Persekutuan.html#REVIEWS\n",
      "https://www.tripadvisor.in/Hotel_Review-g298570-d19079760-Reviews-Komune_Living-Kuala_Lumpur_Wilayah_Persekutuan.html#REVIEWS\n",
      "https://www.tripadvisor.in/Hotel_Review-g298570-d5274392-Reviews-Metro_Hotel-Kuala_Lumpur_Wilayah_Persekutuan.html#REVIEWS\n",
      "https://www.tripadvisor.in/Hotel_Review-g298570-d306360-Reviews-Hotel_Maya_Kuala_Lumpur-Kuala_Lumpur_Wilayah_Persekutuan.html#REVIEWS\n",
      "https://www.tripadvisor.in/Hotel_Review-g298570-d15057108-Reviews-Imperial_Regency_Suites_Hotel_Kuala_Lumpur-Kuala_Lumpur_Wilayah_Persekutuan.html#REVIEWS\n",
      "https://www.tripadvisor.in/Hotel_Review-g298570-d307944-Reviews-Corus_Hotel_Kuala_Lumpur-Kuala_Lumpur_Wilayah_Persekutuan.html#REVIEWS\n",
      "https://www.tripadvisor.in/Hotel_Review-g298570-d616560-Reviews-Seri_Pacific_Hotel_Kuala_Lumpur-Kuala_Lumpur_Wilayah_Persekutuan.html#REVIEWS\n",
      "https://www.tripadvisor.in/Hotel_Review-g298570-d584469-Reviews-Prescott_Hotel_Kuala_Lumpur_Medan_Tuanku-Kuala_Lumpur_Wilayah_Persekutuan.html#REVIEWS\n",
      "https://www.tripadvisor.in/Hotel_Review-g298570-d1056011-Reviews-The_Gardens_Hotel_Residences-Kuala_Lumpur_Wilayah_Persekutuan.html#REVIEWS\n",
      "https://www.tripadvisor.in/Hotel_Review-g298570-d7189264-Reviews-The_Signature_Hotel_Serviced_Suites_Kuala_Lumpur-Kuala_Lumpur_Wilayah_Persekutuan.html#REVIEWS\n",
      "https://www.tripadvisor.in/Hotel_Review-g298570-d15069121-Reviews-Dorsett_Hartamas_Kuala_Lumpur-Kuala_Lumpur_Wilayah_Persekutuan.html#REVIEWS\n",
      "https://www.tripadvisor.in/Hotel_Review-g298570-d305316-Reviews-Cititel_Mid_Valley-Kuala_Lumpur_Wilayah_Persekutuan.html#REVIEWS\n",
      "https://www.tripadvisor.in/Hotel_Review-g298570-d5541565-Reviews-WOLO_Kuala_Lumpur-Kuala_Lumpur_Wilayah_Persekutuan.html#REVIEWS\n",
      "https://www.tripadvisor.in/Hotel_Review-g298570-d1492132-Reviews-Hotel_Sentral-Kuala_Lumpur_Wilayah_Persekutuan.html#REVIEWS\n",
      "https://www.tripadvisor.in/Hotel_Review-g298570-d13801005-Reviews-Tamu_Hotel_Suites_Kuala_Lumpur-Kuala_Lumpur_Wilayah_Persekutuan.html#REVIEWS\n"
     ]
    }
   ],
   "source": [
    "links = []\n",
    "for review in bsobj.findAll('a',{'class':'review_count'}):\n",
    "    a = review['href']\n",
    "    a = 'https://www.tripadvisor.in'+ a\n",
    "    #a = a[:(a.find('Reviews')+7)] + '-or{}' + a[(a.find('Reviews')+7):]\n",
    "    print(a)\n",
    "    links.append(a)"
   ]
  },
  {
   "cell_type": "code",
   "execution_count": 86,
   "metadata": {},
   "outputs": [],
   "source": [
    "# Output to file\n",
    "reviewsfile = 'KualaLumpur_Hotels_Master.csv'\n",
    "file = open(reviewsfile, 'w', newline ='\\n')\n",
    "\n",
    "# writing the data into the file\n",
    "with file:    \n",
    "    write = csv.writer(file, dialect='excel')\n",
    "    for i in range(20):\n",
    "        write.writerow([links[i]])\n",
    "file.close()"
   ]
  },
  {
   "cell_type": "code",
   "execution_count": 87,
   "metadata": {},
   "outputs": [],
   "source": [
    "from random import randint\n",
    "from time import sleep\n",
    "import re\n",
    "import csv"
   ]
  },
  {
   "cell_type": "code",
   "execution_count": 88,
   "metadata": {},
   "outputs": [],
   "source": [
    "reviews = []\n",
    "ratings = []\n",
    "ratingRegex = re.compile(r'bubble_\\d\\d')\n",
    "headers = {'User-Agent':'Mozilla/5.0 (Windows NT 10.0; WOW64) AppleWebKit/537.36 (KHTML, like Gecko) Chrome/83.0.4103.97 Safari/537.36'}\n",
    "\n",
    "for ix in range(0,20):\n",
    "    link = links[ix]\n",
    "    reviews = []\n",
    "    ratings = []\n",
    "    for i in range(5,105,5):\n",
    "        source = requests.get(link,headers=headers).text\n",
    "        link = link[:(link.find('Reviews')+7)] + '-or'+ str(i) + link[(link.find('Reviews')+7):]\n",
    "        sleep(randint(1,5))\n",
    "        bsobj2 = soup(source,'html.parser')\n",
    "        spans = bsobj2.findAll('div', {'data-test-target' : 'review-rating'})\n",
    "        for span in bsobj2.findAll('div', {'data-test-target' : 'review-rating'}):\n",
    "            rating = ratingRegex.search(str(span))\n",
    "            ratings.append(float(rating.group()[-2:])/10.0)\n",
    "            #print(float(rating.group()[-2:])/10.0)\n",
    "\n",
    "        for r in bsobj2.findAll('q'):\n",
    "            reviews.append(r.span.text.strip())\n",
    "            #print(r.span.text.strip())\n",
    "\n",
    "        # Output to file\n",
    "        reviewsfile = 'KualaLumpur_reviews_' + str(ix + 1) + '.csv'\n",
    "        file = open(reviewsfile, 'w', newline ='\\n')\n",
    "\n",
    "        # writing the data into the file\n",
    "        with file:    \n",
    "            write = csv.writer(file, dialect='excel')\n",
    "            for review in reviews:\n",
    "                write.writerow([review])\n",
    "        file.close()\n",
    "\n",
    "        ratingsfile = 'KualaLumpur_ratings_' + str(ix + 1) + '.csv'\n",
    "        file = open(ratingsfile, 'w', newline ='\\n')\n",
    "\n",
    "        # writing the data into the file\n",
    "        with file:    \n",
    "            write = csv.writer(file, dialect='excel')\n",
    "            for rating in ratings:\n",
    "                write.writerow([rating])\n",
    "        file.close()\n",
    "\n",
    "#print(reviews)"
   ]
  },
  {
   "cell_type": "code",
   "execution_count": 53,
   "metadata": {},
   "outputs": [
    {
     "name": "stdout",
     "output_type": "stream",
     "text": [
      "[5.0, 5.0, 5.0, 5.0, 5.0, 5.0, 5.0, 5.0, 4.0, 5.0, 5.0, 5.0, 5.0, 5.0, 5.0, 5.0, 5.0, 5.0, 5.0, 5.0, 5.0, 5.0, 4.0, 4.0, 5.0, 5.0, 5.0, 5.0, 5.0, 5.0, 5.0, 5.0, 5.0, 5.0, 5.0, 4.0, 4.0, 5.0, 5.0, 4.0, 3.0, 4.0, 5.0, 5.0, 5.0, 4.0, 5.0, 4.0, 4.0, 5.0, 5.0, 5.0, 5.0, 5.0, 5.0, 4.0, 4.0, 5.0, 5.0, 5.0, 4.0, 5.0, 3.0, 5.0, 4.0, 5.0, 5.0, 4.0, 5.0, 5.0, 5.0, 5.0, 5.0, 5.0, 5.0, 5.0, 5.0, 5.0, 1.0, 5.0, 5.0, 5.0, 5.0, 1.0, 5.0, 5.0, 4.0, 5.0, 5.0, 1.0, 1.0, 4.0, 5.0, 5.0, 3.0, 5.0, 4.0, 4.0, 5.0, 5.0]\n"
     ]
    }
   ],
   "source": [
    "print(ratings)"
   ]
  },
  {
   "cell_type": "code",
   "execution_count": 54,
   "metadata": {},
   "outputs": [
    {
     "data": {
      "text/plain": [
       "100"
      ]
     },
     "execution_count": 54,
     "metadata": {},
     "output_type": "execute_result"
    }
   ],
   "source": [
    "len(reviews)"
   ]
  },
  {
   "cell_type": "code",
   "execution_count": 55,
   "metadata": {},
   "outputs": [
    {
     "data": {
      "text/plain": [
       "100"
      ]
     },
     "execution_count": 55,
     "metadata": {},
     "output_type": "execute_result"
    }
   ],
   "source": [
    "len(ratings)"
   ]
  },
  {
   "cell_type": "code",
   "execution_count": 56,
   "metadata": {},
   "outputs": [
    {
     "name": "stdout",
     "output_type": "stream",
     "text": [
      "['Nice view, great customer service, clean room.. best recommended for couples wishes to stay for couple of nights. Best staycation ever.. Thanks Mr Abhi from the front desk counter for arranging us this best view, high floor Room', 'Hotel was amazing, gave us free upgrades with amazing service by the hotel. Abhi was really helpful and assist us throughout the whole stay in pan pacific hotel. I would definitely come back and enjoy another stay here.', 'Here our first visit, the front desk receiption staff “ABHI” is extremely great and accommodating. The room is clean and comfy, definitely will recommend to our friend and will visit again in the future', 'I just spent the long Good Friday weekend at the hotel & I had another great time. Great service by all staff at the reception, restaurant as well as our doormen. Check-in did not take long, I felt welcomed throughout my stay especially at the Pacific club lounge where they remembered me. Special mention to be made to Shine, Angel at pacific club who makes me feel so at home, service staff who’s on duty at the edge for pac club members fr 3-4 Apr for their great service, Jane at the reception for recognising me & welcoming me back, and our doorman kuselan & Ismail  for their great service. Thanks everyone! I will be back soon!', 'Our one night stay with Pan Pacific Singapore was delightfully marked with exceptional great customer service. We were greeted by friendly front desk manager, Abhi, who professionally assisted us in checking in, and tried his best to accommodate to our various requests and enquiries.   We had brunch at Keyaki, which serves authentic Japanese cuisine. The food was pleasant to the palates. However, due to a miscommunication, there was a slight unhappiness which was quickly resolved by the manager, Vincent, who addressed our concerns in a prompt and caring manner.  In short, we were really impressed by the quality of customer service in this hotel where guests are treated with respect and you could tell the staff goes out of their way to make guests feel welcome and be at home.', 'Everything was as expected for a 4-5 hotel. Room was spotless, staff very attentive, Internet was excellent. Fuss free stay, no issues whatsoever. Value-wise, I would not recommend PanPac - as I have stayed at other on-par hotels with same service standards at lower rates.', 'Had our family staycation at Pan Pacific from 3/04/21 to 4/04/21.  Check in was smooth, & we were pleasantly surprised when we got into our room- cleanliness spot on & spacious. So glad we managed to book our swimming pool session & my toddler had so much fun. Pool was not crowded too.   During our check out, we were fortunate to bump into Mr Khalili who helped us with our stroller & luggage as our hands are full handling our daughter.   Mr Khalili readily offered to help us all the way through our checkout process till we are out at the pick up point. He is also great in entertaining kids!   Thank you Mr Khalili for the exemplary service & we will definitely be back again Pan Pacific!', \"My husband and I had the most amazing 8-course private dining experience at the Keyaki Restaurant's private tatami room for his birthday celebration! Overlooking a little garden, the tatami room was a beautiful place full of serenity. Soft calming music played in the background and a coat hanger was available. The tatami floor and seats were absolutely gorgeous. We booked the entire space to ourselves, and for the whole 3.5-hours, we were served by the Japanese restaurant manager who was exceptional - very polite, detail-oriented and thoughtful. We truly felt like we had been transported to Japan!   The manager and chefs went above and well beyond my expectations in helping me prepare for this celebration. To book the tatami private dining room, a minimum spend of $700 on total\", \"It's best if it serve halal food either than that everything is good and enjoyable..location is near to all, nice view,  cleanliness is top notch instruction given is very precise and clear...simple check out\"]\n"
     ]
    }
   ],
   "source": [
    "print(reviews[31:40])"
   ]
  },
  {
   "cell_type": "code",
   "execution_count": 70,
   "metadata": {},
   "outputs": [],
   "source": [
    "\n",
    "  \n",
    "# opening the csv file in 'w+' mode\n",
    "filename = 'Singapore_reviews_2.csv'\n",
    "file = open(filename 'w', newline ='\\n')\n",
    "  \n",
    "# writing the data into the file\n",
    "with file:    \n",
    "    write = csv.writer(file, dialect='excel')\n",
    "    for review in reviews:\n",
    "        write.writerow([review])\n",
    "file.close()"
   ]
  },
  {
   "cell_type": "code",
   "execution_count": 71,
   "metadata": {},
   "outputs": [],
   "source": [
    "# opening the csv file in 'w+' mode\n",
    "filename2 = 'Singapore_ratings_2.csv'\n",
    "file = open(filename2, 'w', newline ='\\n')\n",
    "  \n",
    "# writing the data into the file\n",
    "with file:    \n",
    "    write = csv.writer(file, dialect='excel')\n",
    "    for rating in ratings:\n",
    "        write.writerow([rating])\n",
    "file.close()"
   ]
  },
  {
   "cell_type": "code",
   "execution_count": null,
   "metadata": {},
   "outputs": [],
   "source": []
  }
 ],
 "metadata": {
  "kernelspec": {
   "display_name": "Python 3",
   "language": "python",
   "name": "python3"
  },
  "language_info": {
   "codemirror_mode": {
    "name": "ipython",
    "version": 3
   },
   "file_extension": ".py",
   "mimetype": "text/x-python",
   "name": "python",
   "nbconvert_exporter": "python",
   "pygments_lexer": "ipython3",
   "version": "3.8.7"
  }
 },
 "nbformat": 4,
 "nbformat_minor": 4
}
